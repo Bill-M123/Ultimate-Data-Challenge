{
 "cells": [
  {
   "cell_type": "markdown",
   "metadata": {},
   "source": [
    "# Overview of Ultimate Data Challenge Submission\n",
    "\n",
    "## 3 Questions:Detailed\n",
    "Description in *ultimate_data_challenge.pdf*\n",
    "\n",
    "\n",
    "\n",
    "** 1. Visualize Login Data:**  *Full Answer: Question 1 Notebook*\n",
    "\n",
    "** 2. Design Experiment for toll policy change:** *Full Answer: Question 2 Essay (pdf) *\n",
    "\n",
    "** 3. Build Model to predict Customer retention**  *Full Answer: Question 3 Notebook*\n"
   ]
  },
  {
   "cell_type": "markdown",
   "metadata": {},
   "source": [
    "*Question 1 Summary:*\n",
    "\n",
    "![Summary](overview.png)\n",
    "\n",
    "1. There is missing data, and the month of April is only present through the 13th of the month.\n",
    "2. There is a time dependence in customer logins, with plots of the actual data in the notebook as well as a summary of the average hourly logons\n",
    "3. There is a clear relation between day of week and number of logins, this is summarized in a box and whisker plot\n",
    "4. All of the data above is combined into a heatmap, which is reordered to show that the busiest times for this car service are in the latenight early morning hours (likely at closing time for bars and restauants) with another surge at lunch time during on weekdays\n",
    "\n"
   ]
  },
  {
   "cell_type": "markdown",
   "metadata": {},
   "source": [
    "*Question 2 Summary:*\n",
    "    \n",
    "Question 2 is a straightforward design of experiments problem to test a policy change for the toll between two cities. The essay discusses careful planning to avoid sampling bias, using a control and test group in each city, and measuring the results with standard hypothesis techniques.  It concludes with a reminder to check teh economic impact of the policy, though that is outside the scope of the problem description."
   ]
  },
  {
   "cell_type": "markdown",
   "metadata": {},
   "source": [
    "*Question 3 Summary:*\n",
    "\n",
    "!['Summary'](Model Assessment2.png)\n",
    "\n",
    "Question 3 is a customer retention problem that requires developingof the variables, decision processes for missing values, and one hot encoding for categorical variables.  A RandomForrest classifer is optimized with a Randomized search on selected hyper parameters and fit to the data.  \n",
    "\n",
    "The results were acceptable for a quick model.  76% of the projected retained customers actuall stay, 78% of the projected defections happen, and an roc score of 0.83 is achieved.  The code is easily extensible to allow testing other classifiers or increasing the accuracy of this model with something like a more computationally intensive grid search.\n",
    "\n",
    "Despite the simplicity of the model, several useful things emerge for the client to review and try to improve.  Examples include a difference in the retention rates of Android and iPhone app users, a difference in retention rates between cities, and a clear customer focus on surge pricing."
   ]
  }
 ],
 "metadata": {
  "kernelspec": {
   "display_name": "Python 2",
   "language": "python",
   "name": "python2"
  },
  "language_info": {
   "codemirror_mode": {
    "name": "ipython",
    "version": 2
   },
   "file_extension": ".py",
   "mimetype": "text/x-python",
   "name": "python",
   "nbconvert_exporter": "python",
   "pygments_lexer": "ipython2",
   "version": "2.7.13"
  }
 },
 "nbformat": 4,
 "nbformat_minor": 2
}
